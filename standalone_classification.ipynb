{
 "cells": [
  {
   "cell_type": "code",
   "execution_count": 1,
   "metadata": {},
   "outputs": [
    {
     "name": "stderr",
     "output_type": "stream",
     "text": [
      "Using TensorFlow backend.\n"
     ]
    }
   ],
   "source": [
    "import math, os, sys\n",
    "#import pickle\n",
    "from glob import glob\n",
    "import numpy as np\n",
    "from numpy.random import random, permutation, randn, normal\n",
    "#from matplotlib import pyplot as plt\n",
    "%matplotlib inline\n",
    "import PIL\n",
    "from PIL import Image\n",
    "#import bcolz\n",
    "from shutil import copyfile\n",
    "from shutil import move\n",
    "\n",
    "import keras\n",
    "from keras import backend as K\n",
    "from keras.utils.data_utils import get_file\n",
    "from keras.models import Sequential, Model\n",
    "from keras.layers.core import Flatten, Dense, Dropout, Lambda\n",
    "from keras.layers import Input,  GlobalAveragePooling2D\n",
    "from keras.layers.convolutional import Conv2D, MaxPooling2D, ZeroPadding2D\n",
    "from keras.optimizers import SGD, RMSprop, Adam\n",
    "from keras.preprocessing import image\n",
    "from keras.layers.normalization import BatchNormalization\n",
    "from keras.utils.np_utils import to_categorical\n",
    "from keras.metrics import categorical_crossentropy\n",
    "from keras.regularizers import l2,l1"
   ]
  },
  {
   "cell_type": "code",
   "execution_count": 2,
   "metadata": {},
   "outputs": [],
   "source": [
    "current_dir_train = \"/home/barath/Downloads/train/\"\n",
    "#path = current_dir\n",
    "#results_path = path + '/results/'\n",
    "#train_path = path + '/train/'\n",
    "#valid_path = path + '/valid'\n",
    "\n",
    "main_directory = '/media/barath/DE3669CE3669A7EB/shruthi_636/'\n",
    "smaller_train = '/media/barath/DE3669CE3669A7EB/shruthi_636/train/'\n",
    "validation = '/media/barath/DE3669CE3669A7EB/shruthi_636/validation/'\n",
    "class_labels = ['c0','c1','c2','c3','c4', 'c5', 'c6', 'c7', 'c8', 'c9']"
   ]
  },
  {
   "cell_type": "code",
   "execution_count": 8,
   "metadata": {},
   "outputs": [],
   "source": [
    "import shutil"
   ]
  },
  {
   "cell_type": "code",
   "execution_count": 10,
   "metadata": {},
   "outputs": [],
   "source": [
    "for label in class_labels:\n",
    "    g = glob(current_dir_train+label+'/*.jpg')\n",
    "    shuffle = np.random.permutation(g)\n",
    "    #print(shuffle[0])\n",
    "    for i in range(400): \n",
    "        shutil.copy(shuffle[i], validation+label)\n",
    "    for i in range(400,len(shuffle)): \n",
    "        shutil.copy(shuffle[i], smaller_train+label) "
   ]
  },
  {
   "cell_type": "code",
   "execution_count": 14,
   "metadata": {},
   "outputs": [],
   "source": [
    "def get_batches(path, gen=image.ImageDataGenerator(), shuffle=True, \n",
    "                batch_size=1, target_size=(224,224), class_mode='categorical'):\n",
    "    return gen.flow_from_directory(path, target_size, \n",
    "                class_mode=class_mode, shuffle=shuffle, batch_size=batch_size)\n",
    "\n",
    "def get_data(path, target_size = (150,150)):\n",
    "    batches = get_batches(path, shuffle=False, batch_size=1, class_mode=None, target_size=target_size)\n",
    "    return np.concatenate([batches.next() for i in range (len(batches.classes))])"
   ]
  },
  {
   "cell_type": "code",
   "execution_count": 15,
   "metadata": {},
   "outputs": [
    {
     "name": "stdout",
     "output_type": "stream",
     "text": [
      "Found 18424 images belonging to 10 classes.\n",
      "Found 4995 images belonging to 10 classes.\n"
     ]
    }
   ],
   "source": [
    "# Roll into pixcel matrix\n",
    "train_data = get_data(smaller_train)\n",
    "valid_data = get_data(validation)"
   ]
  },
  {
   "cell_type": "code",
   "execution_count": 16,
   "metadata": {},
   "outputs": [
    {
     "ename": "NameError",
     "evalue": "name 'save_array' is not defined",
     "output_type": "error",
     "traceback": [
      "\u001b[0;31m---------------------------------------------------------------------------\u001b[0m",
      "\u001b[0;31mNameError\u001b[0m                                 Traceback (most recent call last)",
      "\u001b[0;32m<ipython-input-16-c1135ea3b908>\u001b[0m in \u001b[0;36m<module>\u001b[0;34m\u001b[0m\n\u001b[0;32m----> 1\u001b[0;31m \u001b[0msave_array\u001b[0m\u001b[0;34m(\u001b[0m\u001b[0;34m'/media/barath/DE3669CE3669A7EB/shruthi_636/results/train_data.dat'\u001b[0m\u001b[0;34m,\u001b[0m \u001b[0mtrain_data\u001b[0m\u001b[0;34m)\u001b[0m\u001b[0;34m\u001b[0m\u001b[0;34m\u001b[0m\u001b[0m\n\u001b[0m\u001b[1;32m      2\u001b[0m \u001b[0msave_array\u001b[0m\u001b[0;34m(\u001b[0m\u001b[0;34m'/media/barath/DE3669CE3669A7EB/shruthi_636/results/validation_data.dat'\u001b[0m\u001b[0;34m,\u001b[0m \u001b[0mvalid_data\u001b[0m\u001b[0;34m)\u001b[0m\u001b[0;34m\u001b[0m\u001b[0;34m\u001b[0m\u001b[0m\n",
      "\u001b[0;31mNameError\u001b[0m: name 'save_array' is not defined"
     ]
    }
   ],
   "source": [
    "save_array('/media/barath/DE3669CE3669A7EB/shruthi_636/results/train_data.dat', train_data)\n",
    "save_array('/media/barath/DE3669CE3669A7EB/shruthi_636/results/validation_data.dat', valid_data)"
   ]
  },
  {
   "cell_type": "code",
   "execution_count": 18,
   "metadata": {},
   "outputs": [],
   "source": [
    "def get_classes(path):\n",
    "    batches = get_batches(path+'train', shuffle=False, batch_size=1)\n",
    "    val_batches = get_batches(path+'validation', shuffle=False, batch_size=1)\n",
    "    #test_batches = get_batches('test', shuffle=False, batch_size=1)\n",
    "    return (val_batches.classes, batches.classes,to_categorical(val_batches.classes),\n",
    "            to_categorical(batches.classes),val_batches.filenames, batches.filenames)"
   ]
  },
  {
   "cell_type": "code",
   "execution_count": 19,
   "metadata": {},
   "outputs": [
    {
     "name": "stdout",
     "output_type": "stream",
     "text": [
      "Found 18424 images belonging to 10 classes.\n",
      "Found 4995 images belonging to 10 classes.\n"
     ]
    }
   ],
   "source": [
    "(valid_classes, train_classes, valid_labels, train_labels, valid_filenames, train_filenames) = get_classes(main_directory)"
   ]
  },
  {
   "cell_type": "code",
   "execution_count": 28,
   "metadata": {},
   "outputs": [
    {
     "name": "stdout",
     "output_type": "stream",
     "text": [
      "_________________________________________________________________\n",
      "Layer (type)                 Output Shape              Param #   \n",
      "=================================================================\n",
      "zero_padding2d_5 (ZeroPaddin (None, 152, 152, 3)       0         \n",
      "_________________________________________________________________\n",
      "conv2d_8 (Conv2D)            (None, 150, 150, 64)      1792      \n",
      "_________________________________________________________________\n",
      "activation_7 (Activation)    (None, 150, 150, 64)      0         \n",
      "_________________________________________________________________\n",
      "conv2d_9 (Conv2D)            (None, 148, 148, 64)      36928     \n",
      "_________________________________________________________________\n",
      "activation_8 (Activation)    (None, 148, 148, 64)      0         \n",
      "_________________________________________________________________\n",
      "max_pooling2d_4 (MaxPooling2 (None, 74, 74, 64)        0         \n",
      "_________________________________________________________________\n",
      "zero_padding2d_6 (ZeroPaddin (None, 76, 76, 64)        0         \n",
      "_________________________________________________________________\n",
      "conv2d_10 (Conv2D)           (None, 74, 74, 64)        36928     \n",
      "_________________________________________________________________\n",
      "activation_9 (Activation)    (None, 74, 74, 64)        0         \n",
      "_________________________________________________________________\n",
      "zero_padding2d_7 (ZeroPaddin (None, 76, 76, 64)        0         \n",
      "_________________________________________________________________\n",
      "conv2d_11 (Conv2D)           (None, 74, 74, 64)        36928     \n",
      "_________________________________________________________________\n",
      "activation_10 (Activation)   (None, 74, 74, 64)        0         \n",
      "_________________________________________________________________\n",
      "max_pooling2d_5 (MaxPooling2 (None, 37, 37, 64)        0         \n",
      "_________________________________________________________________\n",
      "zero_padding2d_8 (ZeroPaddin (None, 39, 39, 64)        0         \n",
      "_________________________________________________________________\n",
      "conv2d_12 (Conv2D)           (None, 37, 37, 64)        36928     \n",
      "_________________________________________________________________\n",
      "activation_11 (Activation)   (None, 37, 37, 64)        0         \n",
      "_________________________________________________________________\n",
      "zero_padding2d_9 (ZeroPaddin (None, 39, 39, 64)        0         \n",
      "_________________________________________________________________\n",
      "conv2d_13 (Conv2D)           (None, 37, 37, 64)        36928     \n",
      "_________________________________________________________________\n",
      "activation_12 (Activation)   (None, 37, 37, 64)        0         \n",
      "_________________________________________________________________\n",
      "zero_padding2d_10 (ZeroPaddi (None, 39, 39, 64)        0         \n",
      "_________________________________________________________________\n",
      "conv2d_14 (Conv2D)           (None, 37, 37, 64)        36928     \n",
      "_________________________________________________________________\n",
      "activation_13 (Activation)   (None, 37, 37, 64)        0         \n",
      "_________________________________________________________________\n",
      "max_pooling2d_6 (MaxPooling2 (None, 18, 18, 64)        0         \n",
      "_________________________________________________________________\n",
      "zero_padding2d_11 (ZeroPaddi (None, 20, 20, 64)        0         \n",
      "_________________________________________________________________\n",
      "conv2d_15 (Conv2D)           (None, 18, 18, 64)        36928     \n",
      "_________________________________________________________________\n",
      "activation_14 (Activation)   (None, 18, 18, 64)        0         \n",
      "_________________________________________________________________\n",
      "zero_padding2d_12 (ZeroPaddi (None, 20, 20, 64)        0         \n",
      "_________________________________________________________________\n",
      "conv2d_16 (Conv2D)           (None, 18, 18, 64)        36928     \n",
      "_________________________________________________________________\n",
      "activation_15 (Activation)   (None, 18, 18, 64)        0         \n",
      "_________________________________________________________________\n",
      "zero_padding2d_13 (ZeroPaddi (None, 20, 20, 64)        0         \n",
      "_________________________________________________________________\n",
      "conv2d_17 (Conv2D)           (None, 18, 18, 64)        36928     \n",
      "_________________________________________________________________\n",
      "activation_16 (Activation)   (None, 18, 18, 64)        0         \n",
      "_________________________________________________________________\n",
      "max_pooling2d_7 (MaxPooling2 (None, 9, 9, 64)          0         \n",
      "_________________________________________________________________\n",
      "dropout_1 (Dropout)          (None, 9, 9, 64)          0         \n",
      "_________________________________________________________________\n",
      "zero_padding2d_14 (ZeroPaddi (None, 11, 11, 64)        0         \n",
      "_________________________________________________________________\n",
      "conv2d_18 (Conv2D)           (None, 9, 9, 64)          36928     \n",
      "_________________________________________________________________\n",
      "activation_17 (Activation)   (None, 9, 9, 64)          0         \n",
      "_________________________________________________________________\n",
      "zero_padding2d_15 (ZeroPaddi (None, 11, 11, 64)        0         \n",
      "_________________________________________________________________\n",
      "conv2d_19 (Conv2D)           (None, 9, 9, 64)          36928     \n",
      "_________________________________________________________________\n",
      "activation_18 (Activation)   (None, 9, 9, 64)          0         \n",
      "_________________________________________________________________\n",
      "zero_padding2d_16 (ZeroPaddi (None, 11, 11, 64)        0         \n",
      "_________________________________________________________________\n",
      "conv2d_20 (Conv2D)           (None, 9, 9, 64)          36928     \n",
      "_________________________________________________________________\n",
      "activation_19 (Activation)   (None, 9, 9, 64)          0         \n",
      "_________________________________________________________________\n",
      "max_pooling2d_8 (MaxPooling2 (None, 4, 4, 64)          0         \n",
      "_________________________________________________________________\n",
      "dropout_2 (Dropout)          (None, 4, 4, 64)          0         \n",
      "_________________________________________________________________\n",
      "flatten_1 (Flatten)          (None, 1024)              0         \n",
      "_________________________________________________________________\n",
      "dense_1 (Dense)              (None, 4096)              4198400   \n",
      "_________________________________________________________________\n",
      "activation_20 (Activation)   (None, 4096)              0         \n",
      "_________________________________________________________________\n",
      "dropout_3 (Dropout)          (None, 4096)              0         \n",
      "_________________________________________________________________\n",
      "dense_2 (Dense)              (None, 4096)              16781312  \n",
      "_________________________________________________________________\n",
      "activation_21 (Activation)   (None, 4096)              0         \n",
      "_________________________________________________________________\n",
      "dropout_4 (Dropout)          (None, 4096)              0         \n",
      "_________________________________________________________________\n",
      "dense_3 (Dense)              (None, 10)                40970     \n",
      "=================================================================\n",
      "Total params: 21,465,610\n",
      "Trainable params: 21,465,610\n",
      "Non-trainable params: 0\n",
      "_________________________________________________________________\n"
     ]
    }
   ],
   "source": [
    "from keras.layers.convolutional import Conv2D\n",
    "from keras.layers import Activation, Dropout, Flatten, Dense\n",
    "from keras.layers.core import Flatten, Dense, Dropout\n",
    "\n",
    "\n",
    "vgg_model = Sequential()\n",
    "vgg_model.add(ZeroPadding2D((1,1),input_shape=(150,150,3)))\n",
    "vgg_model.add(Conv2D(64, (3, 3)))\n",
    "vgg_model.add(Activation('relu'))\n",
    "vgg_model.add(Conv2D(64, (3, 3)))\n",
    "vgg_model.add(Activation('relu'))\n",
    "vgg_model.add(MaxPooling2D((2,2), strides=(2,2)))\n",
    "\n",
    "vgg_model.add(ZeroPadding2D((1,1)))\n",
    "vgg_model.add(Conv2D(64, (3, 3)))\n",
    "vgg_model.add(Activation('relu'))\n",
    "vgg_model.add(ZeroPadding2D((1,1)))\n",
    "vgg_model.add(Conv2D(64, (3, 3)))\n",
    "vgg_model.add(Activation('relu'))\n",
    "vgg_model.add(MaxPooling2D((2,2), strides=(2,2)))\n",
    "\n",
    "vgg_model.add(ZeroPadding2D((1,1)))\n",
    "vgg_model.add(Conv2D(64, (3, 3)))\n",
    "vgg_model.add(Activation('relu'))\n",
    "vgg_model.add(ZeroPadding2D((1,1)))\n",
    "vgg_model.add(Conv2D(64, (3, 3)))\n",
    "vgg_model.add(Activation('relu'))\n",
    "vgg_model.add(ZeroPadding2D((1,1)))\n",
    "vgg_model.add(Conv2D(64, (3, 3)))\n",
    "vgg_model.add(Activation('relu'))\n",
    "vgg_model.add(MaxPooling2D((2,2), strides=(2,2)))\n",
    "\n",
    "vgg_model.add(ZeroPadding2D((1,1)))\n",
    "vgg_model.add(Conv2D(64, (3, 3)))\n",
    "vgg_model.add(Activation('relu'))\n",
    "vgg_model.add(ZeroPadding2D((1,1)))\n",
    "vgg_model.add(Conv2D(64, (3, 3)))\n",
    "vgg_model.add(Activation('relu'))\n",
    "vgg_model.add(ZeroPadding2D((1,1)))\n",
    "vgg_model.add(Conv2D(64, (3, 3)))\n",
    "vgg_model.add(Activation('relu'))\n",
    "vgg_model.add(MaxPooling2D((2,2), strides=(2,2)))\n",
    "vgg_model.add(Dropout(0.2))\n",
    "\n",
    "vgg_model.add(ZeroPadding2D((1,1)))\n",
    "vgg_model.add(Conv2D(64, (3, 3)))\n",
    "vgg_model.add(Activation('relu'))\n",
    "vgg_model.add(ZeroPadding2D((1,1)))\n",
    "vgg_model.add(Conv2D(64, (3, 3)))\n",
    "vgg_model.add(Activation('relu'))\n",
    "vgg_model.add(ZeroPadding2D((1,1)))\n",
    "vgg_model.add(Conv2D(64, (3, 3)))\n",
    "vgg_model.add(Activation('relu'))\n",
    "vgg_model.add(MaxPooling2D((2,2), strides=(2,2)))\n",
    "vgg_model.add(Dropout(0.3))\n",
    "\n",
    "vgg_model.add(Flatten())\n",
    "vgg_model.add(Dense(4096))\n",
    "vgg_model.add(Activation('relu'))\n",
    "vgg_model.add(Dropout(0.5))\n",
    "vgg_model.add(Dense(4096))\n",
    "vgg_model.add(Activation('relu'))\n",
    "vgg_model.add(Dropout(0.5))\n",
    "vgg_model.add(Dense(10, activation='softmax'))\n",
    "vgg_model.summary()\n"
   ]
  },
  {
   "cell_type": "code",
   "execution_count": 30,
   "metadata": {},
   "outputs": [],
   "source": [
    "from keras.optimizers import RMSprop\n",
    "\n",
    "vgg_model.compile(RMSprop(lr=10e-6), loss='categorical_crossentropy', metrics=['accuracy'])"
   ]
  },
  {
   "cell_type": "code",
   "execution_count": 33,
   "metadata": {},
   "outputs": [],
   "source": [
    "import time\n",
    "from keras.callbacks import ModelCheckpoint,TensorBoard, EarlyStopping\n",
    "\n",
    "# checkpoint\n",
    "filepath=\"/media/barath/DE3669CE3669A7EB/shruthi_636/training_result_copycode/full_model_{epoch:02d}-{val_acc:.2f}.hdf5\"\n",
    "checkpoint = ModelCheckpoint(filepath, monitor='val_acc', verbose=1, save_best_only=True, mode='max')\n",
    "callbacks_list = [checkpoint]\n",
    "earlystopping = EarlyStopping(monitor='val_loss', min_delta=0, patience=5, verbose=0, mode='auto')\n",
    "callbacks_list.append(earlystopping)\n",
    "#tensorboard visulaization\n",
    "tensorboard = TensorBoard(log_dir='/media/barath/DE3669CE3669A7EB/shruthi_636/logs_copycode/{}'.format(time.time()))\n",
    "callbacks_list.append(tensorboard)"
   ]
  },
  {
   "cell_type": "code",
   "execution_count": 34,
   "metadata": {},
   "outputs": [],
   "source": [
    "from matplotlib import pyplot as plt\n",
    "\n",
    "def plot_history(Exp_history):\n",
    "    plt.figure(1)\n",
    "    plt.subplot(211)\n",
    "    plt.plot(Exp_history.history['acc'])\n",
    "    plt.plot(Exp_history.history['val_acc'])\n",
    "    plt.title('accuracy')\n",
    "    plt.ylabel('accuracy')\n",
    "    plt.legend(['train', 'validation'], loc='upper left')\n",
    "    plt.subplot(212)\n",
    "    plt.plot(Exp_history.history['loss'])\n",
    "    plt.plot(Exp_history.history['val_loss'])\n",
    "    plt.title('loss')\n",
    "    plt.ylabel('loss')\n",
    "    plt.xlabel('epoches')\n",
    "    plt.legend(['train', 'validation'], loc='upper left')\n",
    "    #plt.savefig(results_path+'/train_history/Exp_train_history_1.png', bbox_inches='tight')\n",
    "    plt.show()"
   ]
  },
  {
   "cell_type": "code",
   "execution_count": 45,
   "metadata": {},
   "outputs": [
    {
     "data": {
      "text/plain": [
       "(18424, 150, 150, 3)"
      ]
     },
     "execution_count": 45,
     "metadata": {},
     "output_type": "execute_result"
    }
   ],
   "source": [
    "train_data.shape"
   ]
  },
  {
   "cell_type": "code",
   "execution_count": 35,
   "metadata": {},
   "outputs": [
    {
     "name": "stdout",
     "output_type": "stream",
     "text": [
      "Train on 18424 samples, validate on 4995 samples\n",
      "Epoch 1/50\n",
      "18424/18424 [==============================] - 62s 3ms/step - loss: 2.3118 - acc: 0.1115 - val_loss: 2.2749 - val_acc: 0.0827\n",
      "\n",
      "Epoch 00001: val_acc improved from -inf to 0.08268, saving model to /media/barath/DE3669CE3669A7EB/shruthi_636/training_result_copycode/full_model_01-0.08.hdf5\n",
      "Epoch 2/50\n",
      "18424/18424 [==============================] - 60s 3ms/step - loss: 2.1450 - acc: 0.2102 - val_loss: 1.7224 - val_acc: 0.4501\n",
      "\n",
      "Epoch 00002: val_acc improved from 0.08268 to 0.45005, saving model to /media/barath/DE3669CE3669A7EB/shruthi_636/training_result_copycode/full_model_02-0.45.hdf5\n",
      "Epoch 3/50\n",
      "18424/18424 [==============================] - 60s 3ms/step - loss: 1.6990 - acc: 0.3757 - val_loss: 1.3159 - val_acc: 0.5518\n",
      "\n",
      "Epoch 00003: val_acc improved from 0.45005 to 0.55175, saving model to /media/barath/DE3669CE3669A7EB/shruthi_636/training_result_copycode/full_model_03-0.55.hdf5\n",
      "Epoch 4/50\n",
      "18424/18424 [==============================] - 60s 3ms/step - loss: 1.4115 - acc: 0.4835 - val_loss: 1.0459 - val_acc: 0.6364\n",
      "\n",
      "Epoch 00004: val_acc improved from 0.55175 to 0.63644, saving model to /media/barath/DE3669CE3669A7EB/shruthi_636/training_result_copycode/full_model_04-0.64.hdf5\n",
      "Epoch 5/50\n",
      "18424/18424 [==============================] - 60s 3ms/step - loss: 1.1733 - acc: 0.5776 - val_loss: 0.8220 - val_acc: 0.7369\n",
      "\n",
      "Epoch 00005: val_acc improved from 0.63644 to 0.73694, saving model to /media/barath/DE3669CE3669A7EB/shruthi_636/training_result_copycode/full_model_05-0.74.hdf5\n",
      "Epoch 6/50\n",
      "18424/18424 [==============================] - 60s 3ms/step - loss: 0.9647 - acc: 0.6586 - val_loss: 0.5970 - val_acc: 0.8192\n",
      "\n",
      "Epoch 00006: val_acc improved from 0.73694 to 0.81922, saving model to /media/barath/DE3669CE3669A7EB/shruthi_636/training_result_copycode/full_model_06-0.82.hdf5\n",
      "Epoch 7/50\n",
      "18424/18424 [==============================] - 60s 3ms/step - loss: 0.7961 - acc: 0.7279 - val_loss: 0.4683 - val_acc: 0.8515\n",
      "\n",
      "Epoch 00007: val_acc improved from 0.81922 to 0.85145, saving model to /media/barath/DE3669CE3669A7EB/shruthi_636/training_result_copycode/full_model_07-0.85.hdf5\n",
      "Epoch 8/50\n",
      "18424/18424 [==============================] - 60s 3ms/step - loss: 0.6667 - acc: 0.7719 - val_loss: 0.3751 - val_acc: 0.8901\n",
      "\n",
      "Epoch 00008: val_acc improved from 0.85145 to 0.89009, saving model to /media/barath/DE3669CE3669A7EB/shruthi_636/training_result_copycode/full_model_08-0.89.hdf5\n",
      "Epoch 9/50\n",
      "18424/18424 [==============================] - 60s 3ms/step - loss: 0.5762 - acc: 0.8068 - val_loss: 0.3169 - val_acc: 0.9061\n",
      "\n",
      "Epoch 00009: val_acc improved from 0.89009 to 0.90611, saving model to /media/barath/DE3669CE3669A7EB/shruthi_636/training_result_copycode/full_model_09-0.91.hdf5\n",
      "Epoch 10/50\n",
      "18424/18424 [==============================] - 60s 3ms/step - loss: 0.5004 - acc: 0.8360 - val_loss: 0.2694 - val_acc: 0.9187\n",
      "\n",
      "Epoch 00010: val_acc improved from 0.90611 to 0.91872, saving model to /media/barath/DE3669CE3669A7EB/shruthi_636/training_result_copycode/full_model_10-0.92.hdf5\n",
      "Epoch 11/50\n",
      "18424/18424 [==============================] - 60s 3ms/step - loss: 0.4387 - acc: 0.8570 - val_loss: 0.2377 - val_acc: 0.9315\n",
      "\n",
      "Epoch 00011: val_acc improved from 0.91872 to 0.93153, saving model to /media/barath/DE3669CE3669A7EB/shruthi_636/training_result_copycode/full_model_11-0.93.hdf5\n",
      "Epoch 12/50\n",
      "18424/18424 [==============================] - 60s 3ms/step - loss: 0.3816 - acc: 0.8771 - val_loss: 0.1951 - val_acc: 0.9465\n",
      "\n",
      "Epoch 00012: val_acc improved from 0.93153 to 0.94655, saving model to /media/barath/DE3669CE3669A7EB/shruthi_636/training_result_copycode/full_model_12-0.95.hdf5\n",
      "Epoch 13/50\n",
      "18424/18424 [==============================] - 60s 3ms/step - loss: 0.3394 - acc: 0.8902 - val_loss: 0.1687 - val_acc: 0.9532\n",
      "\n",
      "Epoch 00013: val_acc improved from 0.94655 to 0.95315, saving model to /media/barath/DE3669CE3669A7EB/shruthi_636/training_result_copycode/full_model_13-0.95.hdf5\n",
      "Epoch 14/50\n",
      "18424/18424 [==============================] - 60s 3ms/step - loss: 0.3114 - acc: 0.9009 - val_loss: 0.1700 - val_acc: 0.9540\n",
      "\n",
      "Epoch 00014: val_acc improved from 0.95315 to 0.95395, saving model to /media/barath/DE3669CE3669A7EB/shruthi_636/training_result_copycode/full_model_14-0.95.hdf5\n",
      "Epoch 15/50\n",
      "18424/18424 [==============================] - 60s 3ms/step - loss: 0.2761 - acc: 0.9158 - val_loss: 0.1283 - val_acc: 0.9620\n",
      "\n",
      "Epoch 00015: val_acc improved from 0.95395 to 0.96196, saving model to /media/barath/DE3669CE3669A7EB/shruthi_636/training_result_copycode/full_model_15-0.96.hdf5\n",
      "Epoch 16/50\n",
      "18424/18424 [==============================] - 60s 3ms/step - loss: 0.2426 - acc: 0.9240 - val_loss: 0.1240 - val_acc: 0.9676\n",
      "\n",
      "Epoch 00016: val_acc improved from 0.96196 to 0.96757, saving model to /media/barath/DE3669CE3669A7EB/shruthi_636/training_result_copycode/full_model_16-0.97.hdf5\n",
      "Epoch 17/50\n",
      "18424/18424 [==============================] - 60s 3ms/step - loss: 0.2320 - acc: 0.9278 - val_loss: 0.1103 - val_acc: 0.9686\n",
      "\n",
      "Epoch 00017: val_acc improved from 0.96757 to 0.96857, saving model to /media/barath/DE3669CE3669A7EB/shruthi_636/training_result_copycode/full_model_17-0.97.hdf5\n",
      "Epoch 18/50\n",
      "18424/18424 [==============================] - 60s 3ms/step - loss: 0.2080 - acc: 0.9371 - val_loss: 0.1110 - val_acc: 0.9668\n",
      "\n",
      "Epoch 00018: val_acc did not improve from 0.96857\n",
      "Epoch 19/50\n",
      "18424/18424 [==============================] - 60s 3ms/step - loss: 0.1943 - acc: 0.9413 - val_loss: 0.0842 - val_acc: 0.9768\n",
      "\n",
      "Epoch 00019: val_acc improved from 0.96857 to 0.97678, saving model to /media/barath/DE3669CE3669A7EB/shruthi_636/training_result_copycode/full_model_19-0.98.hdf5\n",
      "Epoch 20/50\n",
      "18424/18424 [==============================] - 60s 3ms/step - loss: 0.1825 - acc: 0.9446 - val_loss: 0.0858 - val_acc: 0.9752\n",
      "\n",
      "Epoch 00020: val_acc did not improve from 0.97678\n",
      "Epoch 21/50\n",
      "18424/18424 [==============================] - 60s 3ms/step - loss: 0.1632 - acc: 0.9510 - val_loss: 0.0755 - val_acc: 0.9794\n",
      "\n",
      "Epoch 00021: val_acc improved from 0.97678 to 0.97938, saving model to /media/barath/DE3669CE3669A7EB/shruthi_636/training_result_copycode/full_model_21-0.98.hdf5\n",
      "Epoch 22/50\n",
      "18424/18424 [==============================] - 60s 3ms/step - loss: 0.1506 - acc: 0.9555 - val_loss: 0.0701 - val_acc: 0.9802\n",
      "\n",
      "Epoch 00022: val_acc improved from 0.97938 to 0.98018, saving model to /media/barath/DE3669CE3669A7EB/shruthi_636/training_result_copycode/full_model_22-0.98.hdf5\n",
      "Epoch 23/50\n",
      "18424/18424 [==============================] - 60s 3ms/step - loss: 0.1415 - acc: 0.9565 - val_loss: 0.0746 - val_acc: 0.9792\n",
      "\n",
      "Epoch 00023: val_acc did not improve from 0.98018\n",
      "Epoch 24/50\n",
      "18424/18424 [==============================] - 60s 3ms/step - loss: 0.1306 - acc: 0.9601 - val_loss: 0.0648 - val_acc: 0.9830\n",
      "\n",
      "Epoch 00024: val_acc improved from 0.98018 to 0.98298, saving model to /media/barath/DE3669CE3669A7EB/shruthi_636/training_result_copycode/full_model_24-0.98.hdf5\n",
      "Epoch 25/50\n",
      "18424/18424 [==============================] - 60s 3ms/step - loss: 0.1253 - acc: 0.9641 - val_loss: 0.0641 - val_acc: 0.9830\n",
      "\n",
      "Epoch 00025: val_acc did not improve from 0.98298\n",
      "Epoch 26/50\n",
      "18424/18424 [==============================] - 60s 3ms/step - loss: 0.1168 - acc: 0.9646 - val_loss: 0.0690 - val_acc: 0.9804\n",
      "\n",
      "Epoch 00026: val_acc did not improve from 0.98298\n",
      "Epoch 27/50\n",
      "18424/18424 [==============================] - 60s 3ms/step - loss: 0.1124 - acc: 0.9657 - val_loss: 0.0740 - val_acc: 0.9796\n",
      "\n",
      "Epoch 00027: val_acc did not improve from 0.98298\n",
      "Epoch 28/50\n",
      "18424/18424 [==============================] - 60s 3ms/step - loss: 0.1032 - acc: 0.9693 - val_loss: 0.0537 - val_acc: 0.9844\n",
      "\n",
      "Epoch 00028: val_acc improved from 0.98298 to 0.98438, saving model to /media/barath/DE3669CE3669A7EB/shruthi_636/training_result_copycode/full_model_28-0.98.hdf5\n",
      "Epoch 29/50\n",
      "18424/18424 [==============================] - 60s 3ms/step - loss: 0.0933 - acc: 0.9707 - val_loss: 0.0513 - val_acc: 0.9862\n",
      "\n",
      "Epoch 00029: val_acc improved from 0.98438 to 0.98619, saving model to /media/barath/DE3669CE3669A7EB/shruthi_636/training_result_copycode/full_model_29-0.99.hdf5\n",
      "Epoch 30/50\n",
      "18424/18424 [==============================] - 60s 3ms/step - loss: 0.0966 - acc: 0.9717 - val_loss: 0.0524 - val_acc: 0.9872\n",
      "\n",
      "Epoch 00030: val_acc improved from 0.98619 to 0.98719, saving model to /media/barath/DE3669CE3669A7EB/shruthi_636/training_result_copycode/full_model_30-0.99.hdf5\n",
      "Epoch 31/50\n",
      "18424/18424 [==============================] - 60s 3ms/step - loss: 0.0843 - acc: 0.9724 - val_loss: 0.0421 - val_acc: 0.9894\n",
      "\n",
      "Epoch 00031: val_acc improved from 0.98719 to 0.98939, saving model to /media/barath/DE3669CE3669A7EB/shruthi_636/training_result_copycode/full_model_31-0.99.hdf5\n",
      "Epoch 32/50\n",
      "18424/18424 [==============================] - 60s 3ms/step - loss: 0.0831 - acc: 0.9745 - val_loss: 0.0433 - val_acc: 0.9902\n",
      "\n",
      "Epoch 00032: val_acc improved from 0.98939 to 0.99019, saving model to /media/barath/DE3669CE3669A7EB/shruthi_636/training_result_copycode/full_model_32-0.99.hdf5\n",
      "Epoch 33/50\n",
      "18424/18424 [==============================] - 60s 3ms/step - loss: 0.0745 - acc: 0.9779 - val_loss: 0.0529 - val_acc: 0.9874\n",
      "\n",
      "Epoch 00033: val_acc did not improve from 0.99019\n",
      "Epoch 34/50\n",
      "18424/18424 [==============================] - 60s 3ms/step - loss: 0.0772 - acc: 0.9762 - val_loss: 0.0422 - val_acc: 0.9890\n",
      "\n",
      "Epoch 00034: val_acc did not improve from 0.99019\n",
      "Epoch 35/50\n",
      "18424/18424 [==============================] - 60s 3ms/step - loss: 0.0742 - acc: 0.9777 - val_loss: 0.0486 - val_acc: 0.9876\n",
      "\n",
      "Epoch 00035: val_acc did not improve from 0.99019\n",
      "Epoch 36/50\n",
      "18424/18424 [==============================] - 60s 3ms/step - loss: 0.0683 - acc: 0.9776 - val_loss: 0.0439 - val_acc: 0.9886\n",
      "\n",
      "Epoch 00036: val_acc did not improve from 0.99019\n"
     ]
    }
   ],
   "source": [
    "batch_size=32\n",
    "\n",
    "\n",
    "history = vgg_model.fit(train_data, train_labels, batch_size = batch_size, epochs = 50, validation_data =(valid_data,valid_labels), verbose = 1, callbacks=callbacks_list)"
   ]
  },
  {
   "cell_type": "code",
   "execution_count": 36,
   "metadata": {},
   "outputs": [
    {
     "data": {
      "image/png": "[encoded data removed]",
      "text/plain": [
       "<Figure size 432x288 with 2 Axes>"
      ]
     },
     "metadata": {
      "needs_background": "light"
     },
     "output_type": "display_data"
    }
   ],
   "source": [
    "plot_history(history)"
   ]
  },
  {
   "cell_type": "code",
   "execution_count": 37,
   "metadata": {},
   "outputs": [
    {
     "data": {
      "text/plain": [
       "(18424, 150, 150, 3)"
      ]
     },
     "execution_count": 37,
     "metadata": {},
     "output_type": "execute_result"
    }
   ],
   "source": [
    "train_data.shape"
   ]
  },
  {
   "cell_type": "code",
   "execution_count": 38,
   "metadata": {},
   "outputs": [
    {
     "data": {
      "text/plain": [
       "(18424, 10)"
      ]
     },
     "execution_count": 38,
     "metadata": {},
     "output_type": "execute_result"
    }
   ],
   "source": [
    "train_labels.shape"
   ]
  },
  {
   "cell_type": "code",
   "execution_count": 3,
   "metadata": {},
   "outputs": [
    {
     "data": {
      "text/plain": [
       "'channels_last'"
      ]
     },
     "execution_count": 3,
     "metadata": {},
     "output_type": "execute_result"
    }
   ],
   "source": [
    "import keras\n",
    "keras.backend.image_data_format()"
   ]
  },
  {
   "cell_type": "code",
   "execution_count": null,
   "metadata": {},
   "outputs": [],
   "source": []
  }
 ],
 "metadata": {
  "kernelspec": {
   "display_name": "Python 3",
   "language": "python",
   "name": "python3"
  },
  "language_info": {
   "codemirror_mode": {
    "name": "ipython",
    "version": 3
   },
   "file_extension": ".py",
   "mimetype": "text/x-python",
   "name": "python",
   "nbconvert_exporter": "python",
   "pygments_lexer": "ipython3",
   "version": "3.6.8"
  }
 },
 "nbformat": 4,
 "nbformat_minor": 2
}
