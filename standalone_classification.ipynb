{
 "cells": [
  {
   "cell_type": "code",
   "execution_count": 7,
   "metadata": {},
   "outputs": [],
   "source": [
    "import math, os, sys\n",
    "#import pickle\n",
    "from glob import glob\n",
    "import numpy as np\n",
    "from numpy.random import random, permutation, randn, normal\n",
    "#from matplotlib import pyplot as plt\n",
    "%matplotlib inline\n",
    "import PIL\n",
    "from PIL import Image\n",
    "#import bcolz\n",
    "from shutil import copyfile\n",
    "from shutil import move\n",
    "\n",
    "import keras\n",
    "from keras import backend as K\n",
    "from keras.utils.data_utils import get_file\n",
    "from keras.models import Sequential, Model\n",
    "from keras.layers.core import Flatten, Dense, Dropout, Lambda\n",
    "from keras.layers import Input,  GlobalAveragePooling2D\n",
    "from keras.layers.convolutional import Conv2D, MaxPooling2D, ZeroPadding2D\n",
    "from keras.optimizers import SGD, RMSprop, Adam\n",
    "from keras.preprocessing import image\n",
    "from keras.layers.normalization import BatchNormalization\n",
    "from keras.utils.np_utils import to_categorical\n",
    "from keras.metrics import categorical_crossentropy\n",
    "from keras.regularizers import l2,l1"
   ]
  },
  {
   "cell_type": "code",
   "execution_count": 14,
   "metadata": {},
   "outputs": [],
   "source": [
    "current_dir_train = \"/media/barath/DE3669CE3669A7EB/shruthi_636/files_to_run/train/\"\n",
    "#path = current_dir\n",
    "#results_path = path + '/results/'\n",
    "#train_path = path + '/train/'\n",
    "#valid_path = path + '/valid'\n",
    "\n",
    "main_directory = '/media/barath/DE3669CE3669A7EB/shruthi_636/'\n",
    "smaller_train = '/media/barath/DE3669CE3669A7EB/shruthi_636/train/'\n",
    "validation = '/media/barath/DE3669CE3669A7EB/shruthi_636/validation/'\n",
    "class_labels = ['c0','c1','c2','c3','c4', 'c5', 'c6', 'c7', 'c8', 'c9']"
   ]
  },
  {
   "cell_type": "code",
   "execution_count": 15,
   "metadata": {},
   "outputs": [],
   "source": [
    "import shutil"
   ]
  },
  {
   "cell_type": "code",
   "execution_count": 20,
   "metadata": {},
   "outputs": [],
   "source": [
    "for label in class_labels:\n",
    "    g = glob(current_dir_train+label+'/*.jpg')\n",
    "    shuffle = np.random.permutation(g)\n",
    "    #print(len(shuffle))\n",
    "    for i in range(400): \n",
    "        shutil.copy(shuffle[i], validation+label)\n",
    "    for i in range(400,len(shuffle)): \n",
    "        shutil.copy(shuffle[i], smaller_train+label) "
   ]
  },
  {
   "cell_type": "code",
   "execution_count": 21,
   "metadata": {},
   "outputs": [],
   "source": [
    "def get_batches(path, gen=image.ImageDataGenerator(), shuffle=True, \n",
    "                batch_size=1, target_size=(224,224), class_mode='categorical'):\n",
    "    return gen.flow_from_directory(path, target_size, \n",
    "                class_mode=class_mode, shuffle=shuffle, batch_size=batch_size)\n",
    "\n",
    "def get_data(path, target_size = (120,120)):\n",
    "    batches = get_batches(path, shuffle=False, batch_size=1, class_mode=None, target_size=target_size)\n",
    "    return np.concatenate([batches.next() for i in range (len(batches.classes))])"
   ]
  },
  {
   "cell_type": "code",
   "execution_count": 22,
   "metadata": {},
   "outputs": [
    {
     "name": "stdout",
     "output_type": "stream",
     "text": [
      "Found 18424 images belonging to 10 classes.\n",
      "Found 4000 images belonging to 10 classes.\n"
     ]
    }
   ],
   "source": [
    "# Roll into pixcel matrix\n",
    "train_data = get_data(smaller_train)\n",
    "valid_data = get_data(validation)"
   ]
  },
  {
   "cell_type": "code",
   "execution_count": 25,
   "metadata": {},
   "outputs": [],
   "source": [
    "def get_classes(path):\n",
    "    batches = get_batches(path+'train', shuffle=False, batch_size=1)\n",
    "    val_batches = get_batches(path+'validation', shuffle=False, batch_size=1)\n",
    "    #test_batches = get_batches('test', shuffle=False, batch_size=1)\n",
    "    return (val_batches.classes, batches.classes,to_categorical(val_batches.classes),\n",
    "            to_categorical(batches.classes),val_batches.filenames, batches.filenames)"
   ]
  },
  {
   "cell_type": "code",
   "execution_count": 26,
   "metadata": {},
   "outputs": [
    {
     "name": "stdout",
     "output_type": "stream",
     "text": [
      "Found 18424 images belonging to 10 classes.\n",
      "Found 4000 images belonging to 10 classes.\n"
     ]
    }
   ],
   "source": [
    "(valid_classes, train_classes, valid_labels, train_labels, valid_filenames, train_filenames) = get_classes(main_directory)"
   ]
  },
  {
   "cell_type": "code",
   "execution_count": 27,
   "metadata": {},
   "outputs": [
    {
     "name": "stdout",
     "output_type": "stream",
     "text": [
      "_________________________________________________________________\n",
      "Layer (type)                 Output Shape              Param #   \n",
      "=================================================================\n",
      "zero_padding2d_1 (ZeroPaddin (None, 122, 122, 3)       0         \n",
      "_________________________________________________________________\n",
      "conv2d_1 (Conv2D)            (None, 120, 120, 64)      1792      \n",
      "_________________________________________________________________\n",
      "activation_1 (Activation)    (None, 120, 120, 64)      0         \n",
      "_________________________________________________________________\n",
      "conv2d_2 (Conv2D)            (None, 118, 118, 64)      36928     \n",
      "_________________________________________________________________\n",
      "activation_2 (Activation)    (None, 118, 118, 64)      0         \n",
      "_________________________________________________________________\n",
      "max_pooling2d_1 (MaxPooling2 (None, 59, 59, 64)        0         \n",
      "_________________________________________________________________\n",
      "zero_padding2d_2 (ZeroPaddin (None, 61, 61, 64)        0         \n",
      "_________________________________________________________________\n",
      "conv2d_3 (Conv2D)            (None, 59, 59, 64)        36928     \n",
      "_________________________________________________________________\n",
      "activation_3 (Activation)    (None, 59, 59, 64)        0         \n",
      "_________________________________________________________________\n",
      "zero_padding2d_3 (ZeroPaddin (None, 61, 61, 64)        0         \n",
      "_________________________________________________________________\n",
      "conv2d_4 (Conv2D)            (None, 59, 59, 64)        36928     \n",
      "_________________________________________________________________\n",
      "activation_4 (Activation)    (None, 59, 59, 64)        0         \n",
      "_________________________________________________________________\n",
      "max_pooling2d_2 (MaxPooling2 (None, 29, 29, 64)        0         \n",
      "_________________________________________________________________\n",
      "zero_padding2d_4 (ZeroPaddin (None, 31, 31, 64)        0         \n",
      "_________________________________________________________________\n",
      "conv2d_5 (Conv2D)            (None, 29, 29, 64)        36928     \n",
      "_________________________________________________________________\n",
      "activation_5 (Activation)    (None, 29, 29, 64)        0         \n",
      "_________________________________________________________________\n",
      "zero_padding2d_5 (ZeroPaddin (None, 31, 31, 64)        0         \n",
      "_________________________________________________________________\n",
      "conv2d_6 (Conv2D)            (None, 29, 29, 64)        36928     \n",
      "_________________________________________________________________\n",
      "activation_6 (Activation)    (None, 29, 29, 64)        0         \n",
      "_________________________________________________________________\n",
      "zero_padding2d_6 (ZeroPaddin (None, 31, 31, 64)        0         \n",
      "_________________________________________________________________\n",
      "conv2d_7 (Conv2D)            (None, 29, 29, 64)        36928     \n",
      "_________________________________________________________________\n",
      "activation_7 (Activation)    (None, 29, 29, 64)        0         \n",
      "_________________________________________________________________\n",
      "max_pooling2d_3 (MaxPooling2 (None, 14, 14, 64)        0         \n",
      "_________________________________________________________________\n",
      "zero_padding2d_7 (ZeroPaddin (None, 16, 16, 64)        0         \n",
      "_________________________________________________________________\n",
      "conv2d_8 (Conv2D)            (None, 14, 14, 64)        36928     \n",
      "_________________________________________________________________\n",
      "activation_8 (Activation)    (None, 14, 14, 64)        0         \n",
      "_________________________________________________________________\n",
      "zero_padding2d_8 (ZeroPaddin (None, 16, 16, 64)        0         \n",
      "_________________________________________________________________\n",
      "conv2d_9 (Conv2D)            (None, 14, 14, 64)        36928     \n",
      "_________________________________________________________________\n",
      "activation_9 (Activation)    (None, 14, 14, 64)        0         \n",
      "_________________________________________________________________\n",
      "zero_padding2d_9 (ZeroPaddin (None, 16, 16, 64)        0         \n",
      "_________________________________________________________________\n",
      "conv2d_10 (Conv2D)           (None, 14, 14, 64)        36928     \n",
      "_________________________________________________________________\n",
      "activation_10 (Activation)   (None, 14, 14, 64)        0         \n",
      "_________________________________________________________________\n",
      "max_pooling2d_4 (MaxPooling2 (None, 7, 7, 64)          0         \n",
      "_________________________________________________________________\n",
      "dropout_1 (Dropout)          (None, 7, 7, 64)          0         \n",
      "_________________________________________________________________\n",
      "zero_padding2d_10 (ZeroPaddi (None, 9, 9, 64)          0         \n",
      "_________________________________________________________________\n",
      "conv2d_11 (Conv2D)           (None, 7, 7, 64)          36928     \n",
      "_________________________________________________________________\n",
      "activation_11 (Activation)   (None, 7, 7, 64)          0         \n",
      "_________________________________________________________________\n",
      "zero_padding2d_11 (ZeroPaddi (None, 9, 9, 64)          0         \n",
      "_________________________________________________________________\n",
      "conv2d_12 (Conv2D)           (None, 7, 7, 64)          36928     \n",
      "_________________________________________________________________\n",
      "activation_12 (Activation)   (None, 7, 7, 64)          0         \n",
      "_________________________________________________________________\n",
      "zero_padding2d_12 (ZeroPaddi (None, 9, 9, 64)          0         \n",
      "_________________________________________________________________\n",
      "conv2d_13 (Conv2D)           (None, 7, 7, 64)          36928     \n",
      "_________________________________________________________________\n",
      "activation_13 (Activation)   (None, 7, 7, 64)          0         \n",
      "_________________________________________________________________\n",
      "max_pooling2d_5 (MaxPooling2 (None, 3, 3, 64)          0         \n",
      "_________________________________________________________________\n",
      "dropout_2 (Dropout)          (None, 3, 3, 64)          0         \n",
      "_________________________________________________________________\n",
      "flatten_1 (Flatten)          (None, 576)               0         \n",
      "_________________________________________________________________\n",
      "dense_1 (Dense)              (None, 4096)              2363392   \n",
      "_________________________________________________________________\n",
      "activation_14 (Activation)   (None, 4096)              0         \n",
      "_________________________________________________________________\n",
      "dropout_3 (Dropout)          (None, 4096)              0         \n",
      "_________________________________________________________________\n",
      "dense_2 (Dense)              (None, 4096)              16781312  \n",
      "_________________________________________________________________\n",
      "activation_15 (Activation)   (None, 4096)              0         \n",
      "_________________________________________________________________\n",
      "dropout_4 (Dropout)          (None, 4096)              0         \n",
      "_________________________________________________________________\n",
      "dense_3 (Dense)              (None, 10)                40970     \n",
      "=================================================================\n",
      "Total params: 19,630,602\n",
      "Trainable params: 19,630,602\n",
      "Non-trainable params: 0\n",
      "_________________________________________________________________\n"
     ]
    }
   ],
   "source": [
    "from keras.layers.convolutional import Conv2D\n",
    "from keras.layers import Activation, Dropout, Flatten, Dense\n",
    "from keras.layers.core import Flatten, Dense, Dropout\n",
    "\n",
    "\n",
    "vgg_model = Sequential()\n",
    "vgg_model.add(ZeroPadding2D((1,1),input_shape=(120,120,3)))\n",
    "vgg_model.add(Conv2D(64, (3, 3)))\n",
    "vgg_model.add(Activation('relu'))\n",
    "vgg_model.add(Conv2D(64, (3, 3)))\n",
    "vgg_model.add(Activation('relu'))\n",
    "vgg_model.add(MaxPooling2D((2,2), strides=(2,2)))\n",
    "\n",
    "vgg_model.add(ZeroPadding2D((1,1)))\n",
    "vgg_model.add(Conv2D(64, (3, 3)))\n",
    "vgg_model.add(Activation('relu'))\n",
    "vgg_model.add(ZeroPadding2D((1,1)))\n",
    "vgg_model.add(Conv2D(64, (3, 3)))\n",
    "vgg_model.add(Activation('relu'))\n",
    "vgg_model.add(MaxPooling2D((2,2), strides=(2,2)))\n",
    "\n",
    "vgg_model.add(ZeroPadding2D((1,1)))\n",
    "vgg_model.add(Conv2D(64, (3, 3)))\n",
    "vgg_model.add(Activation('relu'))\n",
    "vgg_model.add(ZeroPadding2D((1,1)))\n",
    "vgg_model.add(Conv2D(64, (3, 3)))\n",
    "vgg_model.add(Activation('relu'))\n",
    "vgg_model.add(ZeroPadding2D((1,1)))\n",
    "vgg_model.add(Conv2D(64, (3, 3)))\n",
    "vgg_model.add(Activation('relu'))\n",
    "vgg_model.add(MaxPooling2D((2,2), strides=(2,2)))\n",
    "\n",
    "vgg_model.add(ZeroPadding2D((1,1)))\n",
    "vgg_model.add(Conv2D(64, (3, 3)))\n",
    "vgg_model.add(Activation('relu'))\n",
    "vgg_model.add(ZeroPadding2D((1,1)))\n",
    "vgg_model.add(Conv2D(64, (3, 3)))\n",
    "vgg_model.add(Activation('relu'))\n",
    "vgg_model.add(ZeroPadding2D((1,1)))\n",
    "vgg_model.add(Conv2D(64, (3, 3)))\n",
    "vgg_model.add(Activation('relu'))\n",
    "vgg_model.add(MaxPooling2D((2,2), strides=(2,2)))\n",
    "vgg_model.add(Dropout(0.2))\n",
    "\n",
    "vgg_model.add(ZeroPadding2D((1,1)))\n",
    "vgg_model.add(Conv2D(64, (3, 3)))\n",
    "vgg_model.add(Activation('relu'))\n",
    "vgg_model.add(ZeroPadding2D((1,1)))\n",
    "vgg_model.add(Conv2D(64, (3, 3)))\n",
    "vgg_model.add(Activation('relu'))\n",
    "vgg_model.add(ZeroPadding2D((1,1)))\n",
    "vgg_model.add(Conv2D(64, (3, 3)))\n",
    "vgg_model.add(Activation('relu'))\n",
    "vgg_model.add(MaxPooling2D((2,2), strides=(2,2)))\n",
    "vgg_model.add(Dropout(0.3))\n",
    "\n",
    "vgg_model.add(Flatten())\n",
    "vgg_model.add(Dense(4096))\n",
    "vgg_model.add(Activation('relu'))\n",
    "vgg_model.add(Dropout(0.5))\n",
    "vgg_model.add(Dense(4096))\n",
    "vgg_model.add(Activation('relu'))\n",
    "vgg_model.add(Dropout(0.5))\n",
    "vgg_model.add(Dense(10, activation='softmax'))\n",
    "vgg_model.summary()\n"
   ]
  },
  {
   "cell_type": "code",
   "execution_count": 28,
   "metadata": {},
   "outputs": [],
   "source": [
    "from keras.optimizers import RMSprop\n",
    "\n",
    "vgg_model.compile(RMSprop(lr=10e-6), loss='categorical_crossentropy', metrics=['accuracy'])"
   ]
  },
  {
   "cell_type": "code",
   "execution_count": 29,
   "metadata": {},
   "outputs": [],
   "source": [
    "import time\n",
    "from keras.callbacks import ModelCheckpoint,TensorBoard, EarlyStopping\n",
    "\n",
    "# checkpoint\n",
    "filepath=\"/media/barath/DE3669CE3669A7EB/shruthi_636/training_result_class_120120/full_model_{epoch:02d}-{val_acc:.2f}.hdf5\"\n",
    "checkpoint = ModelCheckpoint(filepath, monitor='val_acc', verbose=1, save_best_only=True, mode='max')\n",
    "callbacks_list = [checkpoint]\n",
    "earlystopping = EarlyStopping(monitor='val_loss', min_delta=0, patience=5, verbose=0, mode='auto')\n",
    "callbacks_list.append(earlystopping)\n",
    "#tensorboard visulaization\n",
    "tensorboard = TensorBoard(log_dir='/media/barath/DE3669CE3669A7EB/shruthi_636/logs_class_120120/{}'.format(time.time()))\n",
    "callbacks_list.append(tensorboard)"
   ]
  },
  {
   "cell_type": "code",
   "execution_count": 30,
   "metadata": {},
   "outputs": [],
   "source": [
    "from matplotlib import pyplot as plt\n",
    "\n",
    "def plot_history(Exp_history):\n",
    "    plt.figure(1)\n",
    "    plt.subplot(211)\n",
    "    plt.plot(Exp_history.history['acc'])\n",
    "    plt.plot(Exp_history.history['val_acc'])\n",
    "    plt.title('accuracy')\n",
    "    plt.ylabel('accuracy')\n",
    "    plt.legend(['train', 'validation'], loc='upper left')\n",
    "    plt.subplot(212)\n",
    "    plt.plot(Exp_history.history['loss'])\n",
    "    plt.plot(Exp_history.history['val_loss'])\n",
    "    plt.title('loss')\n",
    "    plt.ylabel('loss')\n",
    "    plt.xlabel('epoches')\n",
    "    plt.legend(['train', 'validation'], loc='upper left')\n",
    "    #plt.savefig(results_path+'/train_history/Exp_train_history_1.png', bbox_inches='tight')\n",
    "    plt.show()"
   ]
  },
  {
   "cell_type": "code",
   "execution_count": 31,
   "metadata": {},
   "outputs": [
    {
     "data": {
      "text/plain": [
       "(18424, 120, 120, 3)"
      ]
     },
     "execution_count": 31,
     "metadata": {},
     "output_type": "execute_result"
    }
   ],
   "source": [
    "train_data.shape"
   ]
  },
  {
   "cell_type": "code",
   "execution_count": 32,
   "metadata": {},
   "outputs": [
    {
     "name": "stdout",
     "output_type": "stream",
     "text": [
      "Train on 18424 samples, validate on 4000 samples\n",
      "Epoch 1/50\n",
      "18424/18424 [==============================] - 42s 2ms/step - loss: 2.3051 - acc: 0.1103 - val_loss: 2.2907 - val_acc: 0.1008\n",
      "\n",
      "Epoch 00001: val_acc improved from -inf to 0.10075, saving model to /media/barath/DE3669CE3669A7EB/shruthi_636/training_result_class_120120/full_model_01-0.10.hdf5\n",
      "Epoch 2/50\n",
      "18424/18424 [==============================] - 40s 2ms/step - loss: 2.2373 - acc: 0.1614 - val_loss: 1.9756 - val_acc: 0.3202\n",
      "\n",
      "Epoch 00002: val_acc improved from 0.10075 to 0.32025, saving model to /media/barath/DE3669CE3669A7EB/shruthi_636/training_result_class_120120/full_model_02-0.32.hdf5\n",
      "Epoch 3/50\n",
      "18424/18424 [==============================] - 40s 2ms/step - loss: 1.8633 - acc: 0.2981 - val_loss: 1.4924 - val_acc: 0.4635\n",
      "\n",
      "Epoch 00003: val_acc improved from 0.32025 to 0.46350, saving model to /media/barath/DE3669CE3669A7EB/shruthi_636/training_result_class_120120/full_model_03-0.46.hdf5\n",
      "Epoch 4/50\n",
      "18424/18424 [==============================] - 40s 2ms/step - loss: 1.5545 - acc: 0.4180 - val_loss: 1.2508 - val_acc: 0.5737\n",
      "\n",
      "Epoch 00004: val_acc improved from 0.46350 to 0.57375, saving model to /media/barath/DE3669CE3669A7EB/shruthi_636/training_result_class_120120/full_model_04-0.57.hdf5\n",
      "Epoch 5/50\n",
      "18424/18424 [==============================] - 40s 2ms/step - loss: 1.3509 - acc: 0.5002 - val_loss: 1.0575 - val_acc: 0.6418\n",
      "\n",
      "Epoch 00005: val_acc improved from 0.57375 to 0.64175, saving model to /media/barath/DE3669CE3669A7EB/shruthi_636/training_result_class_120120/full_model_05-0.64.hdf5\n",
      "Epoch 6/50\n",
      "18424/18424 [==============================] - 40s 2ms/step - loss: 1.1924 - acc: 0.5621 - val_loss: 0.8868 - val_acc: 0.7033\n",
      "\n",
      "Epoch 00006: val_acc improved from 0.64175 to 0.70325, saving model to /media/barath/DE3669CE3669A7EB/shruthi_636/training_result_class_120120/full_model_06-0.70.hdf5\n",
      "Epoch 7/50\n",
      "18424/18424 [==============================] - 40s 2ms/step - loss: 1.0451 - acc: 0.6257 - val_loss: 0.7552 - val_acc: 0.7362\n",
      "\n",
      "Epoch 00007: val_acc improved from 0.70325 to 0.73625, saving model to /media/barath/DE3669CE3669A7EB/shruthi_636/training_result_class_120120/full_model_07-0.74.hdf5\n",
      "Epoch 8/50\n",
      "18424/18424 [==============================] - 40s 2ms/step - loss: 0.9069 - acc: 0.6842 - val_loss: 0.5969 - val_acc: 0.8060\n",
      "\n",
      "Epoch 00008: val_acc improved from 0.73625 to 0.80600, saving model to /media/barath/DE3669CE3669A7EB/shruthi_636/training_result_class_120120/full_model_08-0.81.hdf5\n",
      "Epoch 9/50\n",
      "18424/18424 [==============================] - 40s 2ms/step - loss: 0.7821 - acc: 0.7291 - val_loss: 0.4951 - val_acc: 0.8383\n",
      "\n",
      "Epoch 00009: val_acc improved from 0.80600 to 0.83825, saving model to /media/barath/DE3669CE3669A7EB/shruthi_636/training_result_class_120120/full_model_09-0.84.hdf5\n",
      "Epoch 10/50\n",
      "18424/18424 [==============================] - 40s 2ms/step - loss: 0.6790 - acc: 0.7707 - val_loss: 0.4206 - val_acc: 0.8618\n",
      "\n",
      "Epoch 00010: val_acc improved from 0.83825 to 0.86175, saving model to /media/barath/DE3669CE3669A7EB/shruthi_636/training_result_class_120120/full_model_10-0.86.hdf5\n",
      "Epoch 11/50\n",
      "18424/18424 [==============================] - 40s 2ms/step - loss: 0.5930 - acc: 0.8017 - val_loss: 0.4173 - val_acc: 0.8632\n",
      "\n",
      "Epoch 00011: val_acc improved from 0.86175 to 0.86325, saving model to /media/barath/DE3669CE3669A7EB/shruthi_636/training_result_class_120120/full_model_11-0.86.hdf5\n",
      "Epoch 12/50\n",
      "18424/18424 [==============================] - 40s 2ms/step - loss: 0.5258 - acc: 0.8266 - val_loss: 0.3375 - val_acc: 0.8897\n",
      "\n",
      "Epoch 00012: val_acc improved from 0.86325 to 0.88975, saving model to /media/barath/DE3669CE3669A7EB/shruthi_636/training_result_class_120120/full_model_12-0.89.hdf5\n",
      "Epoch 13/50\n",
      "18424/18424 [==============================] - 40s 2ms/step - loss: 0.4622 - acc: 0.8468 - val_loss: 0.2514 - val_acc: 0.9273\n",
      "\n",
      "Epoch 00013: val_acc improved from 0.88975 to 0.92725, saving model to /media/barath/DE3669CE3669A7EB/shruthi_636/training_result_class_120120/full_model_13-0.93.hdf5\n",
      "Epoch 14/50\n",
      "18424/18424 [==============================] - 40s 2ms/step - loss: 0.4155 - acc: 0.8652 - val_loss: 0.2151 - val_acc: 0.9380\n",
      "\n",
      "Epoch 00014: val_acc improved from 0.92725 to 0.93800, saving model to /media/barath/DE3669CE3669A7EB/shruthi_636/training_result_class_120120/full_model_14-0.94.hdf5\n",
      "Epoch 15/50\n",
      "18424/18424 [==============================] - 40s 2ms/step - loss: 0.3741 - acc: 0.8810 - val_loss: 0.2008 - val_acc: 0.9425\n",
      "\n",
      "Epoch 00015: val_acc improved from 0.93800 to 0.94250, saving model to /media/barath/DE3669CE3669A7EB/shruthi_636/training_result_class_120120/full_model_15-0.94.hdf5\n",
      "Epoch 16/50\n",
      "18424/18424 [==============================] - 40s 2ms/step - loss: 0.3357 - acc: 0.8954 - val_loss: 0.1745 - val_acc: 0.9530\n",
      "\n",
      "Epoch 00016: val_acc improved from 0.94250 to 0.95300, saving model to /media/barath/DE3669CE3669A7EB/shruthi_636/training_result_class_120120/full_model_16-0.95.hdf5\n",
      "Epoch 17/50\n",
      "18424/18424 [==============================] - 40s 2ms/step - loss: 0.3025 - acc: 0.9043 - val_loss: 0.1674 - val_acc: 0.9540\n",
      "\n",
      "Epoch 00017: val_acc improved from 0.95300 to 0.95400, saving model to /media/barath/DE3669CE3669A7EB/shruthi_636/training_result_class_120120/full_model_17-0.95.hdf5\n",
      "Epoch 18/50\n",
      "18424/18424 [==============================] - 40s 2ms/step - loss: 0.2769 - acc: 0.9153 - val_loss: 0.1918 - val_acc: 0.9445\n",
      "\n",
      "Epoch 00018: val_acc did not improve from 0.95400\n",
      "Epoch 19/50\n",
      "18424/18424 [==============================] - 40s 2ms/step - loss: 0.2587 - acc: 0.9206 - val_loss: 0.1288 - val_acc: 0.9647\n",
      "\n",
      "Epoch 00019: val_acc improved from 0.95400 to 0.96475, saving model to /media/barath/DE3669CE3669A7EB/shruthi_636/training_result_class_120120/full_model_19-0.96.hdf5\n",
      "Epoch 20/50\n",
      "18424/18424 [==============================] - 40s 2ms/step - loss: 0.2381 - acc: 0.9252 - val_loss: 0.1168 - val_acc: 0.9673\n",
      "\n",
      "Epoch 00020: val_acc improved from 0.96475 to 0.96725, saving model to /media/barath/DE3669CE3669A7EB/shruthi_636/training_result_class_120120/full_model_20-0.97.hdf5\n",
      "Epoch 21/50\n",
      "18424/18424 [==============================] - 40s 2ms/step - loss: 0.2181 - acc: 0.9307 - val_loss: 0.1233 - val_acc: 0.9673\n",
      "\n",
      "Epoch 00021: val_acc did not improve from 0.96725\n",
      "Epoch 22/50\n",
      "18424/18424 [==============================] - 40s 2ms/step - loss: 0.2033 - acc: 0.9387 - val_loss: 0.0973 - val_acc: 0.9712\n",
      "\n",
      "Epoch 00022: val_acc improved from 0.96725 to 0.97125, saving model to /media/barath/DE3669CE3669A7EB/shruthi_636/training_result_class_120120/full_model_22-0.97.hdf5\n",
      "Epoch 23/50\n",
      "18424/18424 [==============================] - 40s 2ms/step - loss: 0.1862 - acc: 0.9428 - val_loss: 0.0978 - val_acc: 0.9722\n",
      "\n",
      "Epoch 00023: val_acc improved from 0.97125 to 0.97225, saving model to /media/barath/DE3669CE3669A7EB/shruthi_636/training_result_class_120120/full_model_23-0.97.hdf5\n",
      "Epoch 24/50\n",
      "18424/18424 [==============================] - 40s 2ms/step - loss: 0.1707 - acc: 0.9481 - val_loss: 0.0992 - val_acc: 0.9722\n",
      "\n",
      "Epoch 00024: val_acc did not improve from 0.97225\n",
      "Epoch 25/50\n",
      "18424/18424 [==============================] - 40s 2ms/step - loss: 0.1610 - acc: 0.9509 - val_loss: 0.0849 - val_acc: 0.9750\n",
      "\n",
      "Epoch 00025: val_acc improved from 0.97225 to 0.97500, saving model to /media/barath/DE3669CE3669A7EB/shruthi_636/training_result_class_120120/full_model_25-0.97.hdf5\n",
      "Epoch 26/50\n",
      "18424/18424 [==============================] - 40s 2ms/step - loss: 0.1479 - acc: 0.9541 - val_loss: 0.0924 - val_acc: 0.9742\n",
      "\n",
      "Epoch 00026: val_acc did not improve from 0.97500\n",
      "Epoch 27/50\n",
      "18424/18424 [==============================] - 40s 2ms/step - loss: 0.1399 - acc: 0.9567 - val_loss: 0.0777 - val_acc: 0.9770\n",
      "\n",
      "Epoch 00027: val_acc improved from 0.97500 to 0.97700, saving model to /media/barath/DE3669CE3669A7EB/shruthi_636/training_result_class_120120/full_model_27-0.98.hdf5\n",
      "Epoch 28/50\n",
      "18424/18424 [==============================] - 40s 2ms/step - loss: 0.1372 - acc: 0.9595 - val_loss: 0.0659 - val_acc: 0.9808\n",
      "\n",
      "Epoch 00028: val_acc improved from 0.97700 to 0.98075, saving model to /media/barath/DE3669CE3669A7EB/shruthi_636/training_result_class_120120/full_model_28-0.98.hdf5\n",
      "Epoch 29/50\n"
     ]
    },
    {
     "name": "stdout",
     "output_type": "stream",
     "text": [
      "18424/18424 [==============================] - 40s 2ms/step - loss: 0.1213 - acc: 0.9621 - val_loss: 0.0716 - val_acc: 0.9780\n",
      "\n",
      "Epoch 00029: val_acc did not improve from 0.98075\n",
      "Epoch 30/50\n",
      "18424/18424 [==============================] - 40s 2ms/step - loss: 0.1157 - acc: 0.9644 - val_loss: 0.0606 - val_acc: 0.9818\n",
      "\n",
      "Epoch 00030: val_acc improved from 0.98075 to 0.98175, saving model to /media/barath/DE3669CE3669A7EB/shruthi_636/training_result_class_120120/full_model_30-0.98.hdf5\n",
      "Epoch 31/50\n",
      "18424/18424 [==============================] - 40s 2ms/step - loss: 0.1097 - acc: 0.9662 - val_loss: 0.0744 - val_acc: 0.9805\n",
      "\n",
      "Epoch 00031: val_acc did not improve from 0.98175\n",
      "Epoch 32/50\n",
      "18424/18424 [==============================] - 40s 2ms/step - loss: 0.1025 - acc: 0.9693 - val_loss: 0.0618 - val_acc: 0.9830\n",
      "\n",
      "Epoch 00032: val_acc improved from 0.98175 to 0.98300, saving model to /media/barath/DE3669CE3669A7EB/shruthi_636/training_result_class_120120/full_model_32-0.98.hdf5\n",
      "Epoch 33/50\n",
      "18424/18424 [==============================] - 40s 2ms/step - loss: 0.1010 - acc: 0.9706 - val_loss: 0.0610 - val_acc: 0.9818\n",
      "\n",
      "Epoch 00033: val_acc did not improve from 0.98300\n",
      "Epoch 34/50\n",
      "18424/18424 [==============================] - 40s 2ms/step - loss: 0.0910 - acc: 0.9734 - val_loss: 0.0607 - val_acc: 0.9830\n",
      "\n",
      "Epoch 00034: val_acc did not improve from 0.98300\n",
      "Epoch 35/50\n",
      "18424/18424 [==============================] - 40s 2ms/step - loss: 0.0877 - acc: 0.9730 - val_loss: 0.0582 - val_acc: 0.9835\n",
      "\n",
      "Epoch 00035: val_acc improved from 0.98300 to 0.98350, saving model to /media/barath/DE3669CE3669A7EB/shruthi_636/training_result_class_120120/full_model_35-0.98.hdf5\n",
      "Epoch 36/50\n",
      "18424/18424 [==============================] - 40s 2ms/step - loss: 0.0848 - acc: 0.9742 - val_loss: 0.0549 - val_acc: 0.9853\n",
      "\n",
      "Epoch 00036: val_acc improved from 0.98350 to 0.98525, saving model to /media/barath/DE3669CE3669A7EB/shruthi_636/training_result_class_120120/full_model_36-0.99.hdf5\n",
      "Epoch 37/50\n",
      "18424/18424 [==============================] - 40s 2ms/step - loss: 0.0797 - acc: 0.9748 - val_loss: 0.0672 - val_acc: 0.9815\n",
      "\n",
      "Epoch 00037: val_acc did not improve from 0.98525\n",
      "Epoch 38/50\n",
      "18424/18424 [==============================] - 40s 2ms/step - loss: 0.0793 - acc: 0.9757 - val_loss: 0.0480 - val_acc: 0.9870\n",
      "\n",
      "Epoch 00038: val_acc improved from 0.98525 to 0.98700, saving model to /media/barath/DE3669CE3669A7EB/shruthi_636/training_result_class_120120/full_model_38-0.99.hdf5\n",
      "Epoch 39/50\n",
      "18424/18424 [==============================] - 40s 2ms/step - loss: 0.0728 - acc: 0.9772 - val_loss: 0.0527 - val_acc: 0.9848\n",
      "\n",
      "Epoch 00039: val_acc did not improve from 0.98700\n",
      "Epoch 40/50\n",
      "18424/18424 [==============================] - 40s 2ms/step - loss: 0.0728 - acc: 0.9774 - val_loss: 0.0450 - val_acc: 0.9882\n",
      "\n",
      "Epoch 00040: val_acc improved from 0.98700 to 0.98825, saving model to /media/barath/DE3669CE3669A7EB/shruthi_636/training_result_class_120120/full_model_40-0.99.hdf5\n",
      "Epoch 41/50\n",
      "18424/18424 [==============================] - 40s 2ms/step - loss: 0.0658 - acc: 0.9797 - val_loss: 0.0499 - val_acc: 0.9858\n",
      "\n",
      "Epoch 00041: val_acc did not improve from 0.98825\n",
      "Epoch 42/50\n",
      "18424/18424 [==============================] - 40s 2ms/step - loss: 0.0603 - acc: 0.9815 - val_loss: 0.0387 - val_acc: 0.9895\n",
      "\n",
      "Epoch 00042: val_acc improved from 0.98825 to 0.98950, saving model to /media/barath/DE3669CE3669A7EB/shruthi_636/training_result_class_120120/full_model_42-0.99.hdf5\n",
      "Epoch 43/50\n",
      "18424/18424 [==============================] - 40s 2ms/step - loss: 0.0636 - acc: 0.9799 - val_loss: 0.0482 - val_acc: 0.9872\n",
      "\n",
      "Epoch 00043: val_acc did not improve from 0.98950\n",
      "Epoch 44/50\n",
      "18424/18424 [==============================] - 40s 2ms/step - loss: 0.0573 - acc: 0.9811 - val_loss: 0.0396 - val_acc: 0.9890\n",
      "\n",
      "Epoch 00044: val_acc did not improve from 0.98950\n",
      "Epoch 45/50\n",
      "18424/18424 [==============================] - 40s 2ms/step - loss: 0.0560 - acc: 0.9817 - val_loss: 0.0484 - val_acc: 0.9870\n",
      "\n",
      "Epoch 00045: val_acc did not improve from 0.98950\n",
      "Epoch 46/50\n",
      "18424/18424 [==============================] - 40s 2ms/step - loss: 0.0562 - acc: 0.9827 - val_loss: 0.0418 - val_acc: 0.9882\n",
      "\n",
      "Epoch 00046: val_acc did not improve from 0.98950\n",
      "Epoch 47/50\n",
      "18424/18424 [==============================] - 40s 2ms/step - loss: 0.0518 - acc: 0.9838 - val_loss: 0.0382 - val_acc: 0.9902\n",
      "\n",
      "Epoch 00047: val_acc improved from 0.98950 to 0.99025, saving model to /media/barath/DE3669CE3669A7EB/shruthi_636/training_result_class_120120/full_model_47-0.99.hdf5\n",
      "Epoch 48/50\n",
      "18424/18424 [==============================] - 40s 2ms/step - loss: 0.0568 - acc: 0.9819 - val_loss: 0.0460 - val_acc: 0.9875\n",
      "\n",
      "Epoch 00048: val_acc did not improve from 0.99025\n",
      "Epoch 49/50\n",
      "18424/18424 [==============================] - 40s 2ms/step - loss: 0.0447 - acc: 0.9852 - val_loss: 0.0398 - val_acc: 0.9892\n",
      "\n",
      "Epoch 00049: val_acc did not improve from 0.99025\n",
      "Epoch 50/50\n",
      "18424/18424 [==============================] - 40s 2ms/step - loss: 0.0484 - acc: 0.9844 - val_loss: 0.0359 - val_acc: 0.9905\n",
      "\n",
      "Epoch 00050: val_acc improved from 0.99025 to 0.99050, saving model to /media/barath/DE3669CE3669A7EB/shruthi_636/training_result_class_120120/full_model_50-0.99.hdf5\n"
     ]
    }
   ],
   "source": [
    "batch_size=32\n",
    "\n",
    "\n",
    "history = vgg_model.fit(train_data, train_labels, batch_size = batch_size, epochs = 50, validation_data =(valid_data,valid_labels), verbose = 1, callbacks=callbacks_list)"
   ]
  },
  {
   "cell_type": "code",
   "execution_count": 33,
   "metadata": {},
   "outputs": [
    {
     "data": {
      "image/png": "[encoded data removed]",
      "text/plain": [
       "<Figure size 432x288 with 2 Axes>"
      ]
     },
     "metadata": {
      "needs_background": "light"
     },
     "output_type": "display_data"
    }
   ],
   "source": [
    "plot_history(history)"
   ]
  },
  {
   "cell_type": "code",
   "execution_count": 34,
   "metadata": {},
   "outputs": [
    {
     "data": {
      "text/plain": [
       "(18424, 120, 120, 3)"
      ]
     },
     "execution_count": 34,
     "metadata": {},
     "output_type": "execute_result"
    }
   ],
   "source": [
    "train_data.shape"
   ]
  },
  {
   "cell_type": "code",
   "execution_count": 35,
   "metadata": {},
   "outputs": [
    {
     "data": {
      "text/plain": [
       "(18424, 10)"
      ]
     },
     "execution_count": 35,
     "metadata": {},
     "output_type": "execute_result"
    }
   ],
   "source": [
    "train_labels.shape"
   ]
  },
  {
   "cell_type": "code",
   "execution_count": 36,
   "metadata": {},
   "outputs": [
    {
     "data": {
      "text/plain": [
       "'channels_last'"
      ]
     },
     "execution_count": 36,
     "metadata": {},
     "output_type": "execute_result"
    }
   ],
   "source": [
    "import keras\n",
    "keras.backend.image_data_format()"
   ]
  },
  {
   "cell_type": "code",
   "execution_count": null,
   "metadata": {
    "collapsed": true
   },
   "outputs": [],
   "source": []
  }
 ],
 "metadata": {
  "kernelspec": {
   "display_name": "Python 3",
   "language": "python",
   "name": "python3"
  },
  "language_info": {
   "codemirror_mode": {
    "name": "ipython",
    "version": 3
   },
   "file_extension": ".py",
   "mimetype": "text/x-python",
   "name": "python",
   "nbconvert_exporter": "python",
   "pygments_lexer": "ipython3",
   "version": "3.6.8"
  }
 },
 "nbformat": 4,
 "nbformat_minor": 2
}
