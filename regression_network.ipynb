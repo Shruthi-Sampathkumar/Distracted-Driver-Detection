{
 "cells": [
  {
   "cell_type": "code",
   "execution_count": 25,
   "metadata": {
    "collapsed": true
   },
   "outputs": [],
   "source": [
    "import pandas as pd\n",
    "import numpy as np\n",
    "from PIL import Image\n",
    "from sklearn.model_selection import cross_val_score, KFold\n",
    "from keras.models import Sequential\n",
    "from sklearn.metrics import accuracy_score\n",
    "from keras.wrappers.scikit_learn import KerasRegressor\n",
    "seed = 42\n",
    "from keras.preprocessing.image import ImageDataGenerator\n",
    "from keras.models import Sequential\n",
    "from keras.layers import Conv2D, MaxPooling2D\n",
    "from keras.layers import Activation, Dropout, Flatten, Dense\n",
    "from keras import layers\n",
    "from keras.optimizers import RMSprop\n",
    "from keras import backend as K\n",
    "K.set_image_dim_ordering('th')"
   ]
  },
  {
   "cell_type": "code",
   "execution_count": 2,
   "metadata": {},
   "outputs": [
    {
     "name": "stderr",
     "output_type": "stream",
     "text": [
      "Using TensorFlow backend.\n"
     ]
    }
   ],
   "source": [
    "\n",
    "# import importlib\n",
    "# import os\n",
    "4077, -24.20391846],\n",
    "       [ -3.06291199, -29.1925354 , -54.17045593, ..., -11.0681076 ,\n",
    "        -25.03192139, -48.92904663],\n",
    "       ..., \n",
    "       [ 12.9357605 ,   0.0642662 , -43.96864319, ...,  -5.27310944,\n",
    "        -21.49401855, -50.50608826],\n",
    "       [ -1.900383  , -20.00675201, -50.1171875 , ...,  -7.74325943,\n",
    "        -23.73028564, -61.93417358],\n",
    "       [ 16.03391647, -19.57675934, -28.65151978, ...,  -3.3750267 ,\n",
    "        -10.91635132, -41.78013611]])\n",
    "# def set_keras_backend(backend):\n",
    "\n",
    "#     if K.backend() != backend:\n",
    "#         os.environ['KERAS_BACKEND'] = backend\n",
    "#         importlib.reload(K)\n",
    "#         assert K.backend() == backend\n",
    "\n",
    "# set_keras_backend(\"tensorflow\")"
   ]
  },
  {
   "cell_type": "code",
   "execution_count": 2,
   "metadata": {
    "collapsed": true
   },
   "outputs": [],
   "source": [
    "data = pd.read_csv('keys.txt', delimiter=\"(\",  header=None)\n",
    "for i in range(5):\n",
    "    data[i] = data[i].astype(str).str[:-1]\n",
    "data.columns = [\"image\",\"Head\",\"left_hand\",\"steering_wheel\",\"right_hand\"]\n",
    "data[\"Head_x\"], data[\"Head_y\"] = data['Head'].str.split(',', 1).str\n",
    "data[\"left_hand_x\"], data[\"left_hand_y\"] = data['left_hand'].str.split(',', 1).str\n",
    "data[\"steering_wheel_x\"], data[\"steering_wheel_y\"] = data['steering_wheel'].str.split(',', 1).str\n",
    "data[\"right_hand_x\"], data[\"right_hand_y\"] = data['right_hand'].str.split(',', 1).str\n",
    "data.drop(\"Head\",axis=1,inplace=True)\n",
    "data.drop(\"left_hand\",axis=1,inplace=True)\n",
    "data.drop(\"steering_wheel\",axis=1,inplace=True)\n",
    "data.drop(\"right_hand\",axis=1,inplace=True)"
   ]
  },
  {
   "cell_type": "code",
   "execution_count": 3,
   "metadata": {},
   "outputs": [
    {
     "data": {
      "text/html": [
       "<div>\n",
       "<style scoped>\n",
       "    .dataframe tbody tr th:only-of-type {\n",
       "        vertical-align: middle;\n",
       "    }\n",
       "\n",
       "    .dataframe tbody tr th {\n",
       "        vertical-align: top;\n",
       "    }\n",
       "\n",
       "    .dataframe thead th {\n",
       "        text-align: right;\n",
       "    }\n",
       "</style>\n",
       "<table border=\"1\" class=\"dataframe\">\n",
       "  <thead>\n",
       "    <tr style=\"text-align: right;\">\n",
       "      <th></th>\n",
       "      <th>image</th>\n",
       "      <th>Head_x</th>\n",
       "      <th>Head_y</th>\n",
       "      <th>left_hand_x</th>\n",
       "      <th>left_hand_y</th>\n",
       "      <th>steering_wheel_x</th>\n",
       "      <th>steering_wheel_y</th>\n",
       "      <th>right_hand_x</th>\n",
       "      <th>right_hand_y</th>\n",
       "    </tr>\n",
       "  </thead>\n",
       "  <tbody>\n",
       "    <tr>\n",
       "      <th>0</th>\n",
       "      <td>img_56.jpg</td>\n",
       "      <td>192</td>\n",
       "      <td>178</td>\n",
       "      <td>461</td>\n",
       "      <td>126</td>\n",
       "      <td>443</td>\n",
       "      <td>219</td>\n",
       "      <td>587</td>\n",
       "      <td>321</td>\n",
       "    </tr>\n",
       "    <tr>\n",
       "      <th>1</th>\n",
       "      <td>img_63.jpg</td>\n",
       "      <td>333</td>\n",
       "      <td>135</td>\n",
       "      <td>636</td>\n",
       "      <td>56</td>\n",
       "      <td>581</td>\n",
       "      <td>171</td>\n",
       "      <td>637</td>\n",
       "      <td>383</td>\n",
       "    </tr>\n",
       "    <tr>\n",
       "      <th>2</th>\n",
       "      <td>img_118.jpg</td>\n",
       "      <td>242</td>\n",
       "      <td>134</td>\n",
       "      <td>539</td>\n",
       "      <td>161</td>\n",
       "      <td>540</td>\n",
       "      <td>240</td>\n",
       "      <td>633</td>\n",
       "      <td>398</td>\n",
       "    </tr>\n",
       "    <tr>\n",
       "      <th>3</th>\n",
       "      <td>img_120.jpg</td>\n",
       "      <td>163</td>\n",
       "      <td>132</td>\n",
       "      <td>479</td>\n",
       "      <td>110</td>\n",
       "      <td>440</td>\n",
       "      <td>213</td>\n",
       "      <td>592</td>\n",
       "      <td>304</td>\n",
       "    </tr>\n",
       "    <tr>\n",
       "      <th>4</th>\n",
       "      <td>img_138.jpg</td>\n",
       "      <td>192</td>\n",
       "      <td>185</td>\n",
       "      <td>514</td>\n",
       "      <td>105</td>\n",
       "      <td>490</td>\n",
       "      <td>213</td>\n",
       "      <td>588</td>\n",
       "      <td>407</td>\n",
       "    </tr>\n",
       "  </tbody>\n",
       "</table>\n",
       "</div>"
      ],
      "text/plain": [
       "         image Head_x Head_y left_hand_x left_hand_y steering_wheel_x  \\\n",
       "0   img_56.jpg    192    178         461         126              443   \n",
       "1   img_63.jpg    333    135         636          56              581   \n",
       "2  img_118.jpg    242    134         539         161              540   \n",
       "3  img_120.jpg    163    132         479         110              440   \n",
       "4  img_138.jpg    192    185         514         105              490   \n",
       "\n",
       "  steering_wheel_y right_hand_x right_hand_y  \n",
       "0              219          587          321  \n",
       "1              171          637          383  \n",
       "2              240          633          398  \n",
       "3              213          592          304  \n",
       "4              213          588          407  "
      ]
     },
     "execution_count": 3,
     "metadata": {},
     "output_type": "execute_result"
    }
   ],
   "source": [
    "data.head()"
   ]
  },
  {
   "cell_type": "code",
   "execution_count": 4,
   "metadata": {
    "collapsed": true
   },
   "outputs": [],
   "source": [
    "data.to_csv(\"preprocessed1.csv\",sep=\"\\t\")"
   ]
  },
  {
   "cell_type": "code",
   "execution_count": 5,
   "metadata": {
    "collapsed": true
   },
   "outputs": [],
   "source": [
    "data[\"Head_x\"] = (data[\"Head_x\"].astype(int)*150/640).astype(int)"
   ]
  },
  {
   "cell_type": "code",
   "execution_count": 6,
   "metadata": {
    "collapsed": true
   },
   "outputs": [],
   "source": [
    "data[\"left_hand_x\"] = (data[\"left_hand_x\"].astype(int)*150/640).astype(int)\n",
    "data[\"steering_wheel_x\"] = (data[\"steering_wheel_x\"].astype(int)*150/640).astype(int)\n",
    "data[\"right_hand_x\"] = (data[\"right_hand_x\"].astype(int)*150/640).astype(int)"
   ]
  },
  {
   "cell_type": "code",
   "execution_count": 7,
   "metadata": {
    "collapsed": true
   },
   "outputs": [],
   "source": [
    "data[\"Head_y\"] = (data[\"Head_y\"].astype(int)*150/480).astype(int)\n",
    "data[\"left_hand_y\"] = (data[\"left_hand_y\"].astype(int)*150/480).astype(int)\n",
    "data[\"steering_wheel_y\"] = (data[\"steering_wheel_y\"].astype(int)*150/480).astype(int)\n",
    "data[\"right_hand_y\"] = (data[\"right_hand_y\"].astype(int)*150/480).astype(int)"
   ]
  },
  {
   "cell_type": "code",
   "execution_count": 8,
   "metadata": {
    "collapsed": true
   },
   "outputs": [],
   "source": [
    "X = data[\"image\"].values\n",
    "data.drop(\"image\",axis=1, inplace=True)\n",
    "Y = data.values"
   ]
  },
  {
   "cell_type": "code",
   "execution_count": 30,
   "metadata": {},
   "outputs": [
    {
     "data": {
      "text/plain": [
       "array([ 45,  55, 108,  39, 103,  68, 137, 100])"
      ]
     },
     "execution_count": 30,
     "metadata": {},
     "output_type": "execute_result"
    }
   ],
   "source": [
    "Y[0]"
   ]
  },
  {
   "cell_type": "code",
   "execution_count": 23,
   "metadata": {
    "collapsed": true
   },
   "outputs": [],
   "source": [
    "#for regression network\n",
    "\n",
    "import os\n",
    "import shutil\n",
    "path_to_train_folder = '/Users/Shruthi/Downloads/state-farm-distracted-driver-detection/imgs/train'\n",
    "subs = os.listdir(path_to_train_folder)\n",
    "for sub in subs:\n",
    "    sub_folder = os.path.join(path_to_train_folder, sub)\n",
    "    for imag in X:\n",
    "        if os.path.exists(os.path.join(sub_folder,imag)):\n",
    "            shutil.copyfile(os.path.join(sub_folder,imag), 'reg_train_input/'+imag)\n",
    "            \n",
    "    "
   ]
  },
  {
   "cell_type": "code",
   "execution_count": 10,
   "metadata": {
    "collapsed": true
   },
   "outputs": [],
   "source": [
    "x = np.array([np.array(Image.open(fname)) for fname in \"reg_train_input/\"+X])"
   ]
  },
  {
   "cell_type": "code",
   "execution_count": 11,
   "metadata": {},
   "outputs": [
    {
     "data": {
      "text/plain": [
       "(499, 3, 150, 150)"
      ]
     },
     "execution_count": 11,
     "metadata": {},
     "output_type": "execute_result"
    }
   ],
   "source": [
    "x = x.transpose(0,3,1,2)\n",
    "x.shape"
   ]
  },
  {
   "cell_type": "code",
   "execution_count": 26,
   "metadata": {
    "collapsed": true
   },
   "outputs": [],
   "source": [
    "'''def key_model():\n",
    "    model=Sequential()\n",
    "    model.add(Conv2D(32, (3, 3), input_shape=(3,150,150))),1\n",
    "    model.add(Activation('relu'))\n",
    "\n",
    "    model.add(Conv2D(64, (3, 3)))\n",
    "    model.add(Activation('relu'))\n",
    "\n",
    "    model.add(Conv2D(64, (3, 3)))\n",
    "    model.add(Activation('relu'))\n",
    "\n",
    "    # the model so far outputs 3D feature maps (height, width, features)\n",
    "    model.add(Flatten()) # this converts our 3D feature maps to 1D feature vectors\n",
    "    model.add(Dense(64)) # 64 neurons\n",
    "    model.add(Activation('relu'))\n",
    "    model.add(Dense(64)) # 64 neurons\n",
    "    model.add(Activation('relu'))\n",
    "    model.add(Dense(32)) # 64 neurons\n",
    "    model.add(Activation('relu'))\n",
    "\n",
    "    # output layer: get 8 coordinate values\n",
    "    model.add(Dense(8))\n",
    "    model.compile(optimizer='rmsprop',\n",
    "              loss='mse')\n",
    "    return model\n",
    "'''\n",
    "model=Sequential()\n",
    "model.add(Conv2D(32, (3, 3), input_shape=(3,480,640))),1\n",
    "model.add(Activation('relu'))\n",
    "\n",
    "model.add(Conv2D(64, (3, 3)))\n",
    "model.add(Activation('relu'))\n",
    "\n",
    "model.add(Conv2D(64, (3, 3)))\n",
    "model.add(Activation('relu'))\n",
    "\n",
    "# the model so far outputs 3D feature maps (height, width, features)\n",
    "model.add(Flatten()) # this converts our 3D feature maps to 1D feature vectors\n",
    "model.add(Dense(64)) # 64 neurons\n",
    "model.add(Activation('relu'))\n",
    "model.add(Dense(64)) # 64 neurons\n",
    "model.add(Activation('relu'))\n",
    "model.add(Dense(32)) # 64 neurons\n",
    "model.add(Activation('relu'))\n",
    "model.add(layers.Dense(8))\n",
    "\n",
    "model.compile(optimizer='rmsprop',loss='mse', metrics=['mae'])"
   ]
  },
  {
   "cell_type": "code",
   "execution_count": 27,
   "metadata": {
    "collapsed": true
   },
   "outputs": [],
   "source": [
    "k = 4\n",
    "num_val_samples = 499 // k\n",
    "num_epochs = 2\n",
    "all_scores = []"
   ]
  },
  {
   "cell_type": "code",
   "execution_count": 31,
   "metadata": {},
   "outputs": [
    {
     "name": "stdout",
     "output_type": "stream",
     "text": [
      "Processing fold # 0\n",
      "Train on 375 samples, validate on 124 samples\n",
      "Epoch 1/2\n",
      "375/375 [==============================] - 623s 2s/step - loss: 8865281.9235 - mean_absolute_error: 216.8003 - val_loss: 9394.9597 - val_mean_absolute_error: 77.8138\n",
      "Epoch 2/2\n",
      "375/375 [==============================] - 581s 2s/step - loss: 691.9174 - mean_absolute_error: 19.2956 - val_loss: 155.1311 - val_mean_absolute_error: 9.7630\n",
      "Scores:  <keras.callbacks.History object at 0x1a49760860>\n",
      "Processing fold # 1\n",
      "Train on 375 samples, validate on 124 samples\n",
      "Epoch 1/2\n",
      "375/375 [==============================] - 617s 2s/step - loss: 356.4052 - mean_absolute_error: 14.4864 - val_loss: 316.0217 - val_mean_absolute_error: 14.4293\n",
      "Epoch 2/2\n",
      "375/375 [==============================] - 603s 2s/step - loss: 252.3639 - mean_absolute_error: 12.2540 - val_loss: 175.3323 - val_mean_absolute_error: 10.7833\n",
      "Scores:  <keras.callbacks.History object at 0x1a4aa44fd0>\n",
      "Processing fold # 2\n",
      "Train on 375 samples, validate on 124 samples\n",
      "Epoch 1/2\n",
      "375/375 [==============================] - 586s 2s/step - loss: 220.7792 - mean_absolute_error: 11.4613 - val_loss: 261.7549 - val_mean_absolute_error: 13.3287\n",
      "Epoch 2/2\n",
      "375/375 [==============================] - 601s 2s/step - loss: 217.2688 - mean_absolute_error: 11.1761 - val_loss: 87.9136 - val_mean_absolute_error: 7.1881\n",
      "Scores:  <keras.callbacks.History object at 0x1a49928c50>\n",
      "Processing fold # 3\n",
      "Train on 375 samples, validate on 124 samples\n",
      "Epoch 1/2\n",
      "375/375 [==============================] - 591s 2s/step - loss: 211.6822 - mean_absolute_error: 11.1739 - val_loss: 128.4932 - val_mean_absolute_error: 9.0328\n",
      "Epoch 2/2\n",
      "375/375 [==============================] - 591s 2s/step - loss: 201.3268 - mean_absolute_error: 10.9794 - val_loss: 100.0504 - val_mean_absolute_error: 8.1667\n",
      "Scores:  <keras.callbacks.History object at 0x1a4ace38d0>\n"
     ]
    }
   ],
   "source": [
    "for i in range(k):\n",
    "    print(f'Processing fold # {i}')\n",
    "    val_data = x[i * num_val_samples: (i+1) * num_val_samples]\n",
    "    val_targets = Y[i * num_val_samples: (i+1) * num_val_samples]\n",
    "    \n",
    "    partial_train_data = np.concatenate(\n",
    "                            [x[:i * num_val_samples],\n",
    "                            x[(i+1) * num_val_samples:]],\n",
    "                            axis=0)\n",
    "    partial_train_targets = np.concatenate(\n",
    "                            [Y[:i * num_val_samples],\n",
    "                            Y[(i+1)*num_val_samples:]],\n",
    "                            axis=0)\n",
    "    res = model.fit(partial_train_data,\n",
    "              partial_train_targets,\n",
    "              epochs=num_epochs,\n",
    "              batch_size=1,\n",
    "              validation_data = (val_data,val_targets))\n",
    "    print(\"Scores: \", res)"
   ]
  },
  {
   "cell_type": "code",
   "execution_count": 33,
   "metadata": {},
   "outputs": [
    {
     "name": "stdout",
     "output_type": "stream",
     "text": [
      "Saved model to disk\n"
     ]
    }
   ],
   "source": [
    "from keras.models import model_from_json\n",
    "# serialize model to JSON\n",
    "model_json = model.to_json()\n",
    "with open(\"model.json\", \"w\") as json_file:\n",
    "    json_file.write(model_json)\n",
    "# serialize weights to HDF5\n",
    "model.save_weights(\"model.h5\")\n",
    "print(\"Saved model to disk\")    "
   ]
  }
 ],
 "metadata": {
  "kernelspec": {
   "display_name": "Python 3",
   "language": "python",
   "name": "python3"
  },
  "language_info": {
   "codemirror_mode": {
    "name": "ipython",
    "version": 3
   },
   "file_extension": ".py",
   "mimetype": "text/x-python",
   "name": "python",
   "nbconvert_exporter": "python",
   "pygments_lexer": "ipython3",
   "version": "3.6.8"
  }
 },
 "nbformat": 4,
 "nbformat_minor": 2
}
